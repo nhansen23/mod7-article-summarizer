{
 "cells": [
  {
   "cell_type": "markdown",
   "metadata": {},
   "source": [
    "# Web Mining and Applied NLP (44-620)\n",
    "\n",
    "## Final Project: Article Summarizer\n",
    "\n",
    "### Student Name:  Nicole Hansen\n",
    "GitHub repo: https://github.com/nhansen23/mod7-article-summarizer\n",
    "\n",
    "Perform the tasks described in the Markdown cells below.  When you have completed the assignment make sure your code cells have all been run (and have output beneath them) and ensure you have committed and pushed ALL of your changes to your assignment repository.\n",
    "\n",
    "You should bring in code from previous assignments to help you answer the questions below.\n",
    "\n",
    "Every question that requires you to write code will have a code cell underneath it; you may either write your entire solution in that cell or write it in a python file (`.py`), then import and run the appropriate code to answer the question."
   ]
  },
  {
   "cell_type": "code",
   "execution_count": null,
   "metadata": {},
   "outputs": [
    {
     "name": "stdout",
     "output_type": "stream",
     "text": [
      "All prereqs installed.\n",
      "Package                           Version\n",
      "--------------------------------- ------------------\n",
      "aext-assistant                    4.0.15\n",
      "aext-assistant-server             4.0.15\n",
      "aext-core                         4.0.15\n",
      "aext-core-server                  4.0.15\n",
      "aext-panels                       4.0.15\n",
      "aext-panels-server                4.0.15\n",
      "aext-share-notebook               4.0.15\n",
      "aext-share-notebook-server        4.0.15\n",
      "aext-shared                       4.0.15\n",
      "aiobotocore                       2.12.3\n",
      "aiohttp                           3.9.5\n",
      "aioitertools                      0.7.1\n"
     ]
    },
    {
     "name": "stdout",
     "output_type": "stream",
     "text": [
      "aiosignal                         1.2.0\n",
      "alabaster                         0.7.16\n",
      "altair                            5.0.1\n",
      "anaconda-anon-usage               0.4.4\n",
      "anaconda-catalogs                 0.2.0\n",
      "anaconda-client                   1.12.3\n",
      "anaconda-cloud-auth               0.5.1\n",
      "anaconda-navigator                2.6.2\n",
      "anaconda-project                  0.11.1\n",
      "annotated-types                   0.6.0\n",
      "anyio                             4.2.0\n",
      "appdirs                           1.4.4\n",
      "archspec                          0.2.3\n",
      "argon2-cffi                       21.3.0\n",
      "argon2-cffi-bindings              21.2.0\n",
      "arrow                             1.2.3\n",
      "astroid                           2.14.2\n",
      "astropy                           6.1.0\n",
      "astropy-iers-data                 0.2024.6.3.0.31.14\n",
      "asttokens                         2.4.1\n",
      "async-lru                         2.0.4\n",
      "atomicwrites                      1.4.0\n",
      "attrs                             23.1.0\n",
      "Automat                           20.2.0\n",
      "autopep8                          2.0.4\n",
      "Babel                             2.11.0\n",
      "bcrypt                            3.2.0\n",
      "beautifulsoup4                    4.12.3\n",
      "binaryornot                       0.4.4\n",
      "black                             24.4.2\n",
      "bleach                            4.1.0\n",
      "blinker                           1.6.2\n",
      "bokeh                             3.4.1\n",
      "boltons                           23.0.0\n",
      "botocore                          1.34.69\n",
      "Bottleneck                        1.3.7\n",
      "Brotli                            1.0.9\n",
      "cachetools                        5.3.3\n",
      "certifi                           2024.8.30\n",
      "cffi                              1.16.0\n",
      "chardet                           4.0.0\n",
      "charset-normalizer                2.0.4\n",
      "click                             8.1.7\n",
      "cloudpickle                       2.2.1\n",
      "colorama                          0.4.6\n",
      "colorcet                          3.1.0\n",
      "comm                              0.2.1\n",
      "conda                             24.7.1\n",
      "conda-build                       24.5.1\n",
      "conda-content-trust               0.2.0\n",
      "conda_index                       0.5.0\n",
      "conda-libmamba-solver             24.1.0\n",
      "conda-pack                        0.7.1\n",
      "conda-package-handling            2.3.0\n",
      "conda_package_streaming           0.10.0\n",
      "conda-repo-cli                    1.0.88\n",
      "conda-token                       0.5.0+1.g2209e04\n",
      "constantly                        23.10.4\n",
      "contourpy                         1.2.0\n",
      "cookiecutter                      2.6.0\n",
      "cryptography                      42.0.5\n",
      "cssselect                         1.2.0\n",
      "cycler                            0.11.0\n",
      "cytoolz                           0.12.2\n",
      "dask                              2024.5.0\n",
      "dask-expr                         1.1.0\n",
      "datashader                        0.16.2\n",
      "debugpy                           1.8.0\n",
      "decorator                         5.1.1\n",
      "defusedxml                        0.7.1\n",
      "diff-match-patch                  20200713\n",
      "dill                              0.3.8\n",
      "distributed                       2024.5.0\n",
      "distro                            1.9.0\n",
      "docstring-to-markdown             0.11\n",
      "docutils                          0.18.1\n",
      "entrypoints                       0.4\n",
      "et-xmlfile                        1.1.0\n",
      "executing                         2.0.1\n",
      "fastjsonschema                    2.16.2\n",
      "filelock                          3.13.1\n",
      "flake8                            7.0.0\n",
      "Flask                             3.0.3\n",
      "fonttools                         4.51.0\n",
      "fqdn                              1.5.1\n",
      "frozendict                        2.4.2\n",
      "frozenlist                        1.4.0\n",
      "fsspec                            2024.3.1\n",
      "gensim                            4.3.2\n",
      "gitdb                             4.0.7\n",
      "GitPython                         3.1.37\n",
      "greenlet                          3.0.1\n",
      "h11                               0.14.0\n",
      "h5py                              3.11.0\n",
      "HeapDict                          1.0.1\n",
      "holoviews                         1.19.0\n",
      "httpcore                          1.0.2\n",
      "httpx                             0.27.0\n",
      "hvplot                            0.10.0\n",
      "hyperlink                         21.0.0\n",
      "idna                              3.7\n",
      "imagecodecs                       2023.1.23\n",
      "imageio                           2.33.1\n",
      "imagesize                         1.4.1\n",
      "imbalanced-learn                  0.12.3\n",
      "importlib-metadata                7.0.1\n",
      "incremental                       22.10.0\n",
      "inflection                        0.5.1\n",
      "iniconfig                         1.1.1\n",
      "intake                            0.7.0\n",
      "intervaltree                      3.1.0\n",
      "ipykernel                         6.29.0\n",
      "ipython                           8.21.0\n",
      "ipython-genutils                  0.2.0\n",
      "ipywidgets                        7.8.1\n",
      "isoduration                       20.11.0\n",
      "isort                             5.13.2\n",
      "itemadapter                       0.3.0\n",
      "itemloaders                       1.1.0\n",
      "itsdangerous                      2.2.0\n",
      "jaraco.classes                    3.2.1\n",
      "jedi                              0.19.1\n",
      "jellyfish                         1.0.1\n",
      "Jinja2                            3.1.4\n",
      "jmespath                          1.0.1\n",
      "joblib                            1.4.2\n",
      "json5                             0.9.6\n",
      "jsonpatch                         1.33\n",
      "jsonpointer                       2.1\n",
      "jsonschema                        4.19.2\n",
      "jsonschema-specifications         2023.7.1\n",
      "jupyter                           1.0.0\n",
      "jupyter_client                    8.6.0\n",
      "jupyter-console                   6.6.3\n",
      "jupyter_core                      5.7.1\n",
      "jupyter-events                    0.10.0\n",
      "jupyter-lsp                       2.2.0\n",
      "jupyter_server                    2.14.1\n",
      "jupyter_server_terminals          0.4.4\n",
      "jupyterlab                        4.0.11\n",
      "jupyterlab-pygments               0.1.2\n",
      "jupyterlab_server                 2.25.1\n",
      "jupyterlab-widgets                1.0.0\n",
      "keyring                           24.3.1\n",
      "kiwisolver                        1.4.4\n",
      "lazy_loader                       0.4\n",
      "lazy-object-proxy                 1.10.0\n",
      "lckr_jupyterlab_variableinspector 3.1.0\n",
      "libarchive-c                      2.9\n",
      "libmambapy                        1.5.8\n",
      "linkify-it-py                     2.0.0\n",
      "llvmlite                          0.42.0\n",
      "lmdb                              1.4.1\n",
      "locket                            1.0.0\n",
      "lxml                              5.2.1\n",
      "lz4                               4.3.2\n",
      "Markdown                          3.4.1\n",
      "markdown-it-py                    2.2.0\n",
      "MarkupSafe                        2.1.3\n",
      "matplotlib                        3.8.4\n",
      "matplotlib-inline                 0.1.6\n",
      "mccabe                            0.7.0\n",
      "mdit-py-plugins                   0.3.0\n",
      "mdurl                             0.1.0\n",
      "menuinst                          2.1.1\n",
      "mistune                           2.0.4\n",
      "mkl-fft                           1.3.8\n",
      "mkl-random                        1.2.4\n",
      "mkl-service                       2.4.0\n",
      "more-itertools                    10.1.0\n",
      "mpmath                            1.3.0\n",
      "msgpack                           1.0.3\n",
      "multidict                         6.0.4\n",
      "multipledispatch                  0.6.0\n",
      "mypy                              1.10.0\n",
      "mypy-extensions                   1.0.0\n",
      "navigator-updater                 0.5.1\n",
      "nbclient                          0.8.0\n",
      "nbconvert                         7.10.0\n",
      "nbformat                          5.9.2\n",
      "nest-asyncio                      1.6.0\n",
      "networkx                          3.2.1\n",
      "nltk                              3.8.1\n",
      "notebook                          7.0.8\n",
      "notebook_shim                     0.2.3\n",
      "numba                             0.59.1\n",
      "numexpr                           2.8.7\n",
      "numpy                             1.26.4\n",
      "numpydoc                          1.7.0\n",
      "openpyxl                          3.1.2\n",
      "overrides                         7.4.0\n",
      "packaging                         23.2\n",
      "pandas                            2.2.2\n",
      "pandocfilters                     1.5.0\n",
      "panel                             1.4.4\n",
      "param                             2.1.0\n",
      "paramiko                          2.8.1\n",
      "parsel                            1.8.1\n",
      "parso                             0.8.3\n",
      "partd                             1.4.1\n",
      "pathspec                          0.10.3\n",
      "patsy                             0.5.6\n",
      "pexpect                           4.8.0\n",
      "pickleshare                       0.7.5\n",
      "pillow                            10.3.0\n",
      "pip                               24.0\n",
      "pkce                              1.0.3\n",
      "pkginfo                           1.10.0\n",
      "platformdirs                      4.2.0\n",
      "plotly                            5.22.0\n",
      "pluggy                            1.0.0\n",
      "ply                               3.11\n",
      "prometheus-client                 0.14.1\n",
      "prompt-toolkit                    3.0.43\n",
      "Protego                           0.1.16\n",
      "protobuf                          3.20.3\n",
      "psutil                            5.9.8\n",
      "psycopg2                          2.9.9\n",
      "ptyprocess                        0.7.0\n",
      "pure-eval                         0.2.2\n",
      "py-cpuinfo                        9.0.0\n",
      "pyarrow                           14.0.2\n",
      "pyasn1                            0.4.8\n",
      "pyasn1-modules                    0.2.8\n",
      "pycodestyle                       2.11.1\n",
      "pycosat                           0.6.6\n",
      "pycparser                         2.21\n",
      "pyct                              0.5.0\n",
      "pycurl                            7.45.2\n",
      "pydantic                          2.5.3\n",
      "pydantic_core                     2.14.6\n",
      "pydeck                            0.8.0\n",
      "PyDispatcher                      2.0.5\n",
      "pydocstyle                        6.3.0\n",
      "pyerfa                            2.0.1.4\n",
      "pyflakes                          3.2.0\n",
      "Pygments                          2.17.2\n",
      "PyJWT                             2.8.0\n",
      "pylint                            2.16.2\n",
      "pylint-venv                       3.0.3\n",
      "pyls-spyder                       0.4.0\n",
      "PyNaCl                            1.5.0\n",
      "pyodbc                            5.0.1\n",
      "pyOpenSSL                         24.0.0\n",
      "pyparsing                         3.0.9\n",
      "PyQt5                             5.15.10\n",
      "PyQt5-sip                         12.13.0\n",
      "PyQtWebEngine                     5.15.6\n",
      "PySocks                           1.7.1\n",
      "pytest                            7.4.4\n",
      "python-dateutil                   2.8.2\n",
      "python-dotenv                     0.21.0\n",
      "python-json-logger                2.0.7\n",
      "python-lsp-black                  2.0.0\n",
      "python-lsp-jsonrpc                1.1.2\n",
      "python-lsp-server                 1.10.0\n",
      "python-slugify                    5.0.2\n",
      "python-snappy                     0.6.1\n",
      "pytoolconfig                      1.2.6\n",
      "pytz                              2024.1\n",
      "pyviz_comms                       3.0.2\n",
      "pywavelets                        1.5.0\n",
      "pywin32                           306\n",
      "pywin32-ctypes                    0.2.2\n",
      "pywinpty                          2.0.10\n",
      "PyYAML                            6.0.1\n",
      "pyzmq                             25.1.2\n",
      "QDarkStyle                        3.2.3\n",
      "qstylizer                         0.2.2\n",
      "QtAwesome                         1.2.2\n",
      "qtconsole                         5.5.1\n",
      "QtPy                              2.4.1\n",
      "queuelib                          1.6.2\n",
      "referencing                       0.30.2\n",
      "regex                             2023.10.3\n",
      "requests                          2.32.2\n",
      "requests-file                     1.5.1\n",
      "requests-toolbelt                 1.0.0\n",
      "rfc3339-validator                 0.1.4\n",
      "rfc3986-validator                 0.1.1\n",
      "rich                              13.3.5\n",
      "rope                              1.12.0\n",
      "rpds-py                           0.10.6\n",
      "Rtree                             1.0.1\n",
      "ruamel.yaml                       0.17.21\n",
      "ruamel-yaml-conda                 0.17.21\n",
      "s3fs                              2024.3.1\n",
      "scikit-image                      0.23.2\n",
      "scikit-learn                      1.4.2\n",
      "scipy                             1.13.1\n",
      "Scrapy                            2.11.1\n",
      "seaborn                           0.13.2\n",
      "semver                            3.0.2\n",
      "Send2Trash                        1.8.2\n",
      "service-identity                  18.1.0\n",
      "setuptools                        69.5.1\n",
      "sip                               6.7.12\n",
      "six                               1.16.0\n",
      "smart-open                        5.2.1\n",
      "smmap                             4.0.0\n",
      "sniffio                           1.3.0\n",
      "snowballstemmer                   2.2.0\n",
      "sortedcontainers                  2.4.0\n",
      "soupsieve                         2.5\n",
      "Sphinx                            7.3.7\n",
      "sphinxcontrib-applehelp           1.0.2\n",
      "sphinxcontrib-devhelp             1.0.2\n",
      "sphinxcontrib-htmlhelp            2.0.0\n",
      "sphinxcontrib-jsmath              1.0.1\n",
      "sphinxcontrib-qthelp              1.0.3\n",
      "sphinxcontrib-serializinghtml     1.1.10\n",
      "spyder                            5.5.1\n",
      "spyder-kernels                    2.5.0\n",
      "SQLAlchemy                        2.0.30\n",
      "stack-data                        0.6.3\n",
      "statsmodels                       0.14.2\n",
      "streamlit                         1.32.0\n",
      "sympy                             1.12\n",
      "tables                            3.9.2\n",
      "tabulate                          0.9.0\n",
      "tblib                             1.7.0\n",
      "tenacity                          8.2.2\n",
      "terminado                         0.17.1\n",
      "text-unidecode                    1.3\n",
      "textdistance                      4.2.1\n",
      "threadpoolctl                     2.2.0\n",
      "three-merge                       0.1.1\n",
      "tifffile                          2023.4.12\n",
      "tinycss2                          1.2.1\n",
      "tldextract                        3.2.0\n",
      "toml                              0.10.2\n",
      "tomli                             2.0.1\n",
      "tomlkit                           0.11.1\n",
      "toolz                             0.12.0\n",
      "tornado                           6.4\n",
      "tqdm                              4.66.4\n",
      "traitlets                         5.14.1\n",
      "truststore                        0.8.0\n",
      "Twisted                           23.10.0\n",
      "twisted-iocpsupport               1.0.2\n",
      "typing_extensions                 4.11.0\n",
      "tzdata                            2023.3\n",
      "uc-micro-py                       1.0.1\n",
      "ujson                             5.10.0\n",
      "unicodedata2                      15.1.0\n",
      "Unidecode                         1.2.0\n",
      "uri-template                      1.3.0\n",
      "urllib3                           2.2.2\n",
      "w3lib                             2.1.2\n",
      "watchdog                          4.0.1\n",
      "wcwidth                           0.2.13\n",
      "webcolors                         24.8.0\n",
      "webencodings                      0.5.1\n",
      "websocket-client                  1.8.0\n",
      "Werkzeug                          3.0.3\n",
      "whatthepatch                      1.0.2\n",
      "wheel                             0.43.0\n",
      "widgetsnbextension                3.6.6\n",
      "win-inet-pton                     1.1.0\n",
      "wrapt                             1.14.1\n",
      "xarray                            2023.6.0\n",
      "xlwings                           0.31.4\n",
      "xyzservices                       2022.9.0\n",
      "yapf                              0.40.2\n",
      "yarl                              1.9.3\n",
      "zict                              3.0.0\n",
      "zipp                              3.17.0\n",
      "zope.interface                    5.4.0\n",
      "zstandard                         0.22.0\n"
     ]
    }
   ],
   "source": [
    "# Install packages\n",
    "from collections import Counter\n",
    "import pickle\n",
    "import requests\n",
    "import spacy\n",
    "import spacytextblob\n",
    "from bs4 import BeautifulSoup\n",
    "import html5lib\n",
    "import jupyterlab\n",
    "\n",
    "print('All prereqs installed.')\n",
    "!pip list"
   ]
  },
  {
   "cell_type": "markdown",
   "metadata": {},
   "source": [
    "## Question 1"
   ]
  },
  {
   "cell_type": "markdown",
   "metadata": {},
   "source": [
    "1. Find on the internet an article or blog post about a topic that interests you and you are able to get the text for using the technologies we have applied in the course.  Get the html for the article and store it in a file (which you must submit with your project)"
   ]
  },
  {
   "cell_type": "code",
   "execution_count": 3,
   "metadata": {},
   "outputs": [
    {
     "name": "stdout",
     "output_type": "stream",
     "text": [
      "Number of reviews found: 30\n",
      "Reviews have been written to reviews.pkl\n"
     ]
    }
   ],
   "source": [
    "# Store url of site\n",
    "url=\"https://www.goodreads.com/book/show/4671.The_Great_Gatsby\"\n",
    "\n",
    "try:\n",
    "    # Fetch the web page\n",
    "    response = requests.get(url)\n",
    "    response.raise_for_status() # Check if the request was successful\n",
    "\n",
    "    # Parse the HTML content\n",
    "    soup = BeautifulSoup(response.content, 'html.parser')\n",
    "\n",
    "    # Print the content to ensure the content is there\n",
    "    #print(soup.prettify())\n",
    "    \n",
    "    # Extract reviews\n",
    "    reviews = soup.find_all('section', class_='ReviewText')\n",
    "\n",
    "    # Print the number of reviews found\n",
    "    print(f\"Number of reviews found: {len(reviews)}\")\n",
    "\n",
    "    # Extract text content from reviews\n",
    "    review_text = [review.get_text(strip=True) for review in reviews]\n",
    "\n",
    "    # Write the content to a file\n",
    "    with open('reviews.pkl', 'wb') as file:\n",
    "        pickle.dump(review_text, file)\n",
    "    print(f\"Reviews have been written to reviews.pkl\")\n",
    "\n",
    "except requests.exceptions.RequestException as e:\n",
    "    print(\"Failed to retrieve review content: {3}\")"
   ]
  },
  {
   "cell_type": "markdown",
   "metadata": {},
   "source": [
    "2. Read in your article's html source from the file you created in question 1 and do sentiment analysis on the article/post's text (use `.get_text()`).  Print the polarity score with an appropriate label.  Additionally print the number of sentences in the original article (with an appropriate label)"
   ]
  },
  {
   "cell_type": "code",
   "execution_count": 24,
   "metadata": {},
   "outputs": [
    {
     "name": "stdout",
     "output_type": "stream",
     "text": [
      "The article polarity score is: 0.10205492424242428\n",
      "The number of sentences in the article is 22\n",
      "\n"
     ]
    }
   ],
   "source": [
    "import pickle\n",
    "from bs4 import BeautifulSoup\n",
    "from textblob import TextBlob\n",
    "\n",
    "file_name = 'reviews.pkl'\n",
    "\n",
    "# Load the file\n",
    "with open(file_name, 'rb') as file:\n",
    "    loaded_reviews = pickle.load(file)\n",
    "\n",
    "# Perform sentiment analysis on the reivews\n",
    "#for review_text in loaded_reviews[:10]:\n",
    "#    analysis = TextBlob(review_text)\n",
    "#    sentiment = analysis.sentiment\n",
    "#    print(f\"Review: {review_text}\")\n",
    "    #print(f\"Sentiment: {sentiment}\\n\")\n",
    "#    print(f\"Polarity: {sentiment.polarity}\\n\")\n",
    "\n",
    "# Load the spaCy model\n",
    "nlp = spacy.load('en_core_web_sm')\n",
    "\n",
    "# Process the text content\n",
    "doc = nlp(review_text)\n",
    "\n",
    "analysis = TextBlob(review_text)\n",
    "sentiment = analysis.sentiment\n",
    "print(f\"The article polarity score is: {sentiment.polarity}\")\n",
    "\n",
    "num_sentences = len(list(doc.sents))\n",
    "print(f\"The number of sentences in the article is {num_sentences}\\n\")"
   ]
  },
  {
   "cell_type": "markdown",
   "metadata": {},
   "source": [
    "3. Load the article text into a trained `spaCy` pipeline, and determine the 5 most frequent tokens (converted to lower case).  Print the common tokens with an appropriate label.  Additionally, print the tokens their frequencies (with appropriate labels)"
   ]
  },
  {
   "cell_type": "code",
   "execution_count": 5,
   "metadata": {},
   "outputs": [
    {
     "name": "stdout",
     "output_type": "stream",
     "text": [
      "The 5 most frequent tokens are:\n",
      "Token: people - Frequency: 7\n",
      "Token: gatsby - Frequency: 6\n",
      "Token: great - Frequency: 5\n",
      "Token: fitzgerald - Frequency: 5\n",
      "Token: world - Frequency: 4\n"
     ]
    }
   ],
   "source": [
    "from bs4 import BeautifulSoup\n",
    "import spacy\n",
    "from collections import Counter\n",
    "\n",
    "# Load spaCy model\n",
    "nlp = spacy.load('en_core_web_sm')\n",
    "\n",
    "# Process the text content\n",
    "doc = nlp(review_text)\n",
    "\n",
    "# Filter out punctuation and stop words\n",
    "tokens = [token.text.lower() for token in doc if not token.is_punct and not token.is_stop and not token.is_space]\n",
    "\n",
    "# Count the frequency of each token \n",
    "token_freq = Counter(tokens)\n",
    "\n",
    "# Get the 5 most frequent tokens\n",
    "most_common_tokens = token_freq.most_common(5)\n",
    "\n",
    "# Print the results\n",
    "print(\"The 5 most frequent tokens are:\")\n",
    "for token, freq in most_common_tokens:\n",
    "    print(f\"Token: {token} - Frequency: {freq}\")"
   ]
  },
  {
   "cell_type": "markdown",
   "metadata": {},
   "source": [
    "4. Load the article text into a trained `spaCy` pipeline, and determine the 5 most frequent lemmas (converted to lower case).  Print the common lemmas with an appropriate label.  Additionally, print the lemmas with their frequencies (with appropriate labels)."
   ]
  },
  {
   "cell_type": "code",
   "execution_count": 6,
   "metadata": {},
   "outputs": [
    {
     "name": "stdout",
     "output_type": "stream",
     "text": [
      "The 5 most frequent lemmas are:\n",
      "Lemma: people - Frequency: 7\n",
      "Lemma: great - Frequency: 6\n",
      "Lemma: gatsby - Frequency: 6\n",
      "Lemma: light - Frequency: 5\n",
      "Lemma: fitzgerald - Frequency: 5\n"
     ]
    }
   ],
   "source": [
    "from bs4 import BeautifulSoup\n",
    "import spacy\n",
    "from collections import Counter\n",
    "\n",
    "# Load spaCy model\n",
    "nlp = spacy.load('en_core_web_sm')\n",
    "\n",
    "# Process the text content\n",
    "doc = nlp(review_text)\n",
    "\n",
    "# Filter out punctuation and stop words\n",
    "lemmas = [token.lemma_.lower() for token in doc if not token.is_punct and not token.is_stop and not token.is_space]\n",
    "\n",
    "# Count the frequency of each lemma \n",
    "lemma_freq = Counter(lemmas)\n",
    "\n",
    "# Get the 5 most frequent lemmas\n",
    "most_common_lemmas = lemma_freq.most_common(5)\n",
    "\n",
    "# Print the results\n",
    "print(\"The 5 most frequent lemmas are:\")\n",
    "for lemma, freq in most_common_lemmas:\n",
    "    print(f\"Lemma: {lemma} - Frequency: {freq}\")"
   ]
  },
  {
   "cell_type": "markdown",
   "metadata": {},
   "source": [
    "5. Make a list containing the scores (using tokens) of every sentence in the article, and plot a histogram with appropriate titles and axis labels of the scores. From your histogram, what seems to be the most common range of scores (put the answer in a comment after your code)?"
   ]
  },
  {
   "cell_type": "code",
   "execution_count": 15,
   "metadata": {},
   "outputs": [
    {
     "name": "stdout",
     "output_type": "stream",
     "text": [
      "Polarity scores: [0.325, 0.28102678571428574, 0.11631493506493507, 0.22500000000000003, -0.07813852813852813, 0.13999999999999999, 0.013333333333333341, 0.0921875, 0.16354166666666667, 0.29464285714285715]\n"
     ]
    },
    {
     "data": {
      "image/png": "[encoded data removed]",
      "text/plain": [
       "<Figure size 640x480 with 1 Axes>"
      ]
     },
     "metadata": {},
     "output_type": "display_data"
    },
    {
     "name": "stdout",
     "output_type": "stream",
     "text": [
      "Min: -0.20833333333333331\n",
      "Max: 0.325\n",
      "Number of Scores: 22\n"
     ]
    }
   ],
   "source": [
    "from textblob import TextBlob\n",
    "import matplotlib.pyplot as plt\n",
    "\n",
    "# Load spaCy model\n",
    "nlp = spacy.load('en_core_web_sm')\n",
    "\n",
    "# Process the text content\n",
    "doc = nlp(review_text)\n",
    "\n",
    "# List to store polarity scores\n",
    "polarity_scores = []\n",
    "\n",
    "# Perform sentiment analysis on each sentence and collect polarity scores\n",
    "for sentence in doc.sents:\n",
    "    # Join tokens to form the sentence text\n",
    "    sentence_text = ' '.join([token.text for token in sentence])\n",
    "    analysis = TextBlob(sentence.text)\n",
    "    polarity_scores.append(analysis.sentiment.polarity)\n",
    "\n",
    "# Print the first few polarity scores to check\n",
    "print(f\"Polarity scores: {polarity_scores[:10]}\")\n",
    "\n",
    "# Plot histogram of the polarity scores\n",
    "plt.hist(polarity_scores, bins=15, edgecolor='k')\n",
    "plt.title('Histogram of Sentence Polarity Scores')\n",
    "plt.xlabel('Polarity Score')\n",
    "plt.ylabel('Frequency')\n",
    "#plt.bar_label()\n",
    "plt.show()\n",
    "\n",
    "print(f\"Min: {min(polarity_scores)}\")\n",
    "print(f\"Max: {max(polarity_scores)}\")\n",
    "print(f\"Number of Scores: {len(polarity_scores)}\")\n",
    "\n",
    "# The most common score is 0.05 to 0.15"
   ]
  },
  {
   "cell_type": "markdown",
   "metadata": {},
   "source": [
    "6. Make a list containing the scores (using lemmas) of every sentence in the article, and plot a histogram with appropriate titles and axis labels of the scores.  From your histogram, what seems to be the most common range of scores (put the answer in a comment after your code)?"
   ]
  },
  {
   "cell_type": "code",
   "execution_count": 14,
   "metadata": {},
   "outputs": [
    {
     "name": "stdout",
     "output_type": "stream",
     "text": [
      "Polarity scores: [0.325, 0.28102678571428574, 0.11631493506493507, 0.22500000000000003, -0.07813852813852813, 0.13999999999999999, 0.013333333333333341, 0.0921875, 0.16354166666666667, 0.29464285714285715]\n"
     ]
    },
    {
     "data": {
      "image/png": "[encoded data removed]",
      "text/plain": [
       "<Figure size 640x480 with 1 Axes>"
      ]
     },
     "metadata": {},
     "output_type": "display_data"
    },
    {
     "name": "stdout",
     "output_type": "stream",
     "text": [
      "Min: -0.20833333333333331\n",
      "Max: 0.325\n",
      "Number of Scores: 22\n"
     ]
    }
   ],
   "source": [
    "from textblob import TextBlob\n",
    "import matplotlib.pyplot as plt\n",
    "\n",
    "# Load spaCy model\n",
    "nlp = spacy.load('en_core_web_sm')\n",
    "\n",
    "# Process the text content\n",
    "doc = nlp(review_text)\n",
    "\n",
    "# List to store polarity scores\n",
    "polarity_scores = []\n",
    "\n",
    "# Perform sentiment analysis on each sentence and collect polarity scores\n",
    "for sentence in doc.sents:\n",
    "    # Join tokens to form the sentence text\n",
    "    sentence_text = ' '.join([lemma.text for lemma in sentence])\n",
    "    analysis = TextBlob(sentence.text)\n",
    "    polarity_scores.append(analysis.sentiment.polarity)\n",
    "\n",
    "# Print the first few polarity scores to check\n",
    "print(f\"Polarity scores: {polarity_scores[:10]}\")\n",
    "\n",
    "# Plot histogram of the polarity scores\n",
    "plt.hist(polarity_scores, bins=15, edgecolor='k')\n",
    "plt.title('Histogram of Sentence Polarity Scores')\n",
    "plt.xlabel('Polarity Score')\n",
    "plt.ylabel('Frequency')\n",
    "plt.show()\n",
    "\n",
    "print(f\"Min: {min(polarity_scores)}\")\n",
    "print(f\"Max: {max(polarity_scores)}\")\n",
    "print(f\"Number of Scores: {len(polarity_scores)}\")\n",
    "\n",
    "# The most common score is 0.05 to 0.15"
   ]
  },
  {
   "cell_type": "markdown",
   "metadata": {},
   "source": [
    "7. Using the histograms from questions 5 and 6, decide a \"cutoff\" score for tokens and lemmas such that fewer than half the sentences would have a score greater than the cutoff score.  Record the scores in this Markdown cell\n",
    "\n",
    "* Cutoff Score (tokens): 0.0\n",
    "* Cutoff Score (lemmas): 0.0\n",
    "\n",
    "Feel free to change these scores as you generate your summaries.  Ideally, we're shooting for at least 6 sentences for our summary, but don't want more than 10 (these numbers are rough estimates; they depend on the length of your article)."
   ]
  },
  {
   "cell_type": "markdown",
   "metadata": {},
   "source": [
    "8. Create a summary of the article by going through every sentence in the article and adding it to an (initially) empty list if its score (based on tokens) is greater than the cutoff score you identified in question 8.  If your loop variable is named `sent`, you may find it easier to add `sent.text.strip()` to your list of sentences.  Print the summary (I would cleanly generate the summary text by `join`ing the strings in your list together with a space (`' '.join(sentence_list)`)."
   ]
  },
  {
   "cell_type": "code",
   "execution_count": 31,
   "metadata": {},
   "outputs": [
    {
     "name": "stdout",
     "output_type": "stream",
     "text": [
      "Summary: \n",
      "Bright lights, big cityWhen I avowed my disenchantment withTender Is the Night, a few GR friends urged me to readThe Great Gatsbyto truly appreciate F. Scott Fitzgerald. I cannot but admitThe Great Gatsbywas a far more exhilarating read than I had expected it to be, its tight composition and restless pace a remarkable contrast with the muddled slow mess that madeTender Is the Nighthard for me to get through, the exquisite, visual opulent writing more than inThe Curious Case of Benjamin Buttonunfurling in all its grandeur, alternating the scrumptious and the gritty, just like the narrative unfolding more coherently. ReadingThe Great Gatsbyimmediately afterTra donne sole(among women only) byCesare Pavese, featuring also some bored socialites as seen by an outsider who almost unwillingly turns into an insider, it struck me how little difference living in 1922 New York or fifties Turin seemed to make, at least for a certain class of people, the ones leisured and wealthy – however Pavese’s women seem more despondent and philosophical, responding to the shallowness of their lives by cynicism, nihilism or suicide. F. Scott Fitzgerald paints brightly lit places, populated by shady people. These are people who are moved to tears by a soft rich heap of beautiful shirts ordered from England, in the meantime thoughtlessly wrecking other people’s lives without even blinking (Pavese’s novel also pivots around haute couture).They were careless people... they smashed up things and creations and then retreated back into their money or their vast carelessness... and let other people clean up the mess they had made. Among many other things, the Great Gatsby is also tale of the ludicrous things we do for love (and which inevitably will leave us with empty hands), a painful story about holding on to illusions against one’ s better judgment and a cautionary tale on the (at that time perhaps) quintessential American belief in the malleability of the individual, the American dream, at which I am aware as a European I can only look at from a unbridgeable distance, bemused at a cultural trope which feels alien to me. ReadingThe Great Gatsbyas a trenchant commentary on this belief however, Fitzgerald to my surprise struck me as a sheer visionary, illustrating sharply the downsides and dangers of this belief and capitalist ethos even if he couldn’t foresee how this pseudo-meritocratic mentality would spread and spill over times and oceans, how it would change societies and poison individuals with it all over the world in the wake of capitalism and neo-liberalism, which would make it into a personal vocation and permanent responsibility to remodel and market oneself to be a worthy individual in a hyper competitive society (and on the flipside blame oneself if one fails to succeed or succumbs under the pressure to achieve and be happy) – an ethos conditioning individuals who are made to think of themselves as one-person enterprises, judged by (and judging themselves) by what they have and do rather than what they are. If you are so smart why aren’t you rich? \"Most of the big shore places were closed now and there were hardly any lights except the shadowy, moving glow of a ferryboat across the Sound. And as the moon rose higher the inessential houses began to melt away until gradually I became aware of the old island here that flowered once for Dutch sailors’ eyes—a fresh, green breast of the new world. Its vanished trees, the trees that had made way for Gatsby’s house, had once pandered in whispers to the last and greatest of all human dreams; for a transitory enchanted moment man must have held his breath in the presence of this continent, compelled into an æsthetic contemplation he neither understood nor desired, face to face for the last time in history with something commensurate to his capacity for wonder. And as I sat there, brooding on the old unknown world, I thought of Gatsby’s wonder when he first picked out the green light at the end of Daisy’s dock. Gatsby believed in the green light, the orgastic future that year by year recedes before us. And one fine morning——So we beat on, boats against the current, borne back ceaselessly into the past.\"\n"
     ]
    }
   ],
   "source": [
    "import spacy \n",
    "# Load spaCy model\n",
    "nlp = spacy.load('en_core_web_sm')\n",
    "\n",
    "# Process the text content\n",
    "doc = nlp(review_text)\n",
    "\n",
    "# List to store sentences with polarity scores greater than the cutoff\n",
    "summary_sentences = []\n",
    "\n",
    "# Store cutoff score\n",
    "cutoff_score = 0.0\n",
    "\n",
    "# Perform sentiment analysis on each sentence \n",
    "for sent in doc.sents:\n",
    "    # Join tokens to form the sentence text \n",
    "    sentence_text = ' '.join([token.text for token in sent])\n",
    "    analysis = TextBlob(sentence_text)\n",
    "    if analysis.sentiment.polarity > cutoff_score:\n",
    "        summary_sentences.append(sent.text.strip())\n",
    "\n",
    "# Print the summary\n",
    "summary = ' '.join(summary_sentences)\n",
    "print(f\"Summary: \\n{summary}\")"
   ]
  },
  {
   "cell_type": "markdown",
   "metadata": {},
   "source": [
    "9. Print the polarity score of your summary you generated with the token scores (with an appropriate label). Additionally, print the number of sentences in the summarized article."
   ]
  },
  {
   "cell_type": "code",
   "execution_count": 32,
   "metadata": {},
   "outputs": [
    {
     "name": "stdout",
     "output_type": "stream",
     "text": [
      "Summary Polarity Score: 0.15680646672914722\n",
      "Number of sentences in the summary: 15\n"
     ]
    }
   ],
   "source": [
    "# Calculate the polarity score of the summary\n",
    "summary_analysis = TextBlob(summary)\n",
    "summary_polarity = summary_analysis.sentiment.polarity\n",
    "\n",
    "# Print the polarity score of the summary\n",
    "print(f\"Summary Polarity Score: {summary_polarity}\")\n",
    "\n",
    "# Process the summary text to count the sentences\n",
    "summary_doc = nlp(summary)\n",
    "num_summary_sentences = len(list(summary_doc.sents))\n",
    "\n",
    "# Print the number of sentences in the summary\n",
    "print(f\"Number of sentences in the summary: {num_summary_sentences}\")"
   ]
  },
  {
   "cell_type": "markdown",
   "metadata": {},
   "source": [
    "10. Create a summary of the article by going through every sentence in the article and adding it to an (initially) empty list if its score (based on lemmas) is greater than the cutoff score you identified in question 8.  If your loop variable is named `sent`, you may find it easier to add `sent.text.strip()` to your list of sentences.  Print the summary (I would cleanly generate the summary text by `join`ing the strings in your list together with a space (`' '.join(sentence_list)`)."
   ]
  },
  {
   "cell_type": "code",
   "execution_count": 27,
   "metadata": {},
   "outputs": [
    {
     "name": "stdout",
     "output_type": "stream",
     "text": [
      "Summary: \n",
      "Bright lights, big cityWhen I avowed my disenchantment withTender Is the Night, a few GR friends urged me to readThe Great Gatsbyto truly appreciate F. Scott Fitzgerald. I cannot but admitThe Great Gatsbywas a far more exhilarating read than I had expected it to be, its tight composition and restless pace a remarkable contrast with the muddled slow mess that madeTender Is the Nighthard for me to get through, the exquisite, visual opulent writing more than inThe Curious Case of Benjamin Buttonunfurling in all its grandeur, alternating the scrumptious and the gritty, just like the narrative unfolding more coherently. ReadingThe Great Gatsbyimmediately afterTra donne sole(among women only) byCesare Pavese, featuring also some bored socialites as seen by an outsider who almost unwillingly turns into an insider, it struck me how little difference living in 1922 New York or fifties Turin seemed to make, at least for a certain class of people, the ones leisured and wealthy – however Pavese’s women seem more despondent and philosophical, responding to the shallowness of their lives by cynicism, nihilism or suicide. F. Scott Fitzgerald paints brightly lit places, populated by shady people. These are people who are moved to tears by a soft rich heap of beautiful shirts ordered from England, in the meantime thoughtlessly wrecking other people’s lives without even blinking (Pavese’s novel also pivots around haute couture).They were careless people... Among many other things, the Great Gatsby is also tale of the ludicrous things we do for love (and which inevitably will leave us with empty hands), a painful story about holding on to illusions against one’ s better judgment and a cautionary tale on the (at that time perhaps) quintessential American belief in the malleability of the individual, the American dream, at which I am aware as a European I can only look at from a unbridgeable distance, bemused at a cultural trope which feels alien to me. ReadingThe Great Gatsbyas a trenchant commentary on this belief however, Fitzgerald to my surprise struck me as a sheer visionary, illustrating sharply the downsides and dangers of this belief and capitalist ethos even if he couldn’t foresee how this pseudo-meritocratic mentality would spread and spill over times and oceans, how it would change societies and poison individuals with it all over the world in the wake of capitalism and neo-liberalism, which would make it into a personal vocation and permanent responsibility to remodel and market oneself to be a worthy individual in a hyper competitive society (and on the flipside blame oneself if one fails to succeed or succumbs under the pressure to achieve and be happy) – an ethos conditioning individuals who are made to think of themselves as one-person enterprises, judged by (and judging themselves) by what they have and do rather than what they are. If you are so smart why aren’t you rich? \"Most of the big shore places were closed now and there were hardly any lights except the shadowy, moving glow of a ferryboat across the Sound. And as the moon rose higher the inessential houses began to melt away until gradually I became aware of the old island here that flowered once for Dutch sailors’ eyes—a fresh, green breast of the new world. Its vanished trees, the trees that had made way for Gatsby’s house, had once pandered in whispers to the last and greatest of all human dreams; for a transitory enchanted moment man must have held his breath in the presence of this continent, compelled into an æsthetic contemplation he neither understood nor desired, face to face for the last time in history with something commensurate to his capacity for wonder. And as I sat there, brooding on the old unknown world, I thought of Gatsby’s wonder when he first picked out the green light at the end of Daisy’s dock. Gatsby believed in the green light, the orgastic future that year by year recedes before us.\n"
     ]
    }
   ],
   "source": [
    "import spacy \n",
    "# Load spaCy model\n",
    "nlp = spacy.load('en_core_web_sm')\n",
    "\n",
    "# Process the text content\n",
    "doc = nlp(review_text)\n",
    "\n",
    "# List to store sentences with polarity scores greater than the cutoff\n",
    "summary_sentences = []\n",
    "\n",
    "# Store cutoff score\n",
    "cutoff_score = 0.05\n",
    "\n",
    "# Perform sentiment analysis on each sentence \n",
    "for sent in doc.sents:\n",
    "    # Join tokens to form the sentence text \n",
    "    sentence_text = ' '.join([lemma.text for lemma in sent])\n",
    "    analysis = TextBlob(sentence_text)\n",
    "    if analysis.sentiment.polarity > cutoff_score:\n",
    "        summary_sentences.append(sent.text.strip())\n",
    "\n",
    "# Print the summary\n",
    "summary = ' '.join(summary_sentences)\n",
    "print(f\"Summary: \\n{summary}\")"
   ]
  },
  {
   "cell_type": "markdown",
   "metadata": {},
   "source": [
    "11. Print the polarity score of your summary you generated with the lemma scores (with an appropriate label). Additionally, print the number of sentences in the summarized article."
   ]
  },
  {
   "cell_type": "code",
   "execution_count": 28,
   "metadata": {},
   "outputs": [
    {
     "name": "stdout",
     "output_type": "stream",
     "text": [
      "Summary Polarity Score: 0.17329763148728675\n",
      "Number of sentences in the summary: 13\n"
     ]
    }
   ],
   "source": [
    "# Calculate the polarity score of the summary\n",
    "summary_analysis = TextBlob(summary)\n",
    "summary_polarity = summary_analysis.sentiment.polarity\n",
    "\n",
    "# Print the polarity score of the summary\n",
    "print(f\"Summary Polarity Score: {summary_polarity}\")\n",
    "\n",
    "# Process the summary text to count the sentences\n",
    "summary_doc = nlp(summary)\n",
    "num_summary_sentences = len(list(summary_doc.sents))\n",
    "\n",
    "# Print the number of sentences in the summary\n",
    "print(f\"Number of sentences in the summary: {num_summary_sentences}\")"
   ]
  },
  {
   "cell_type": "markdown",
   "metadata": {},
   "source": [
    "12.  Compare your polarity scores of your summaries to the polarity scores of the initial article.  Is there a difference?  Why do you think that may or may not be?.  Answer in this Markdown cell. \n",
    "\n",
    "There is a slight difference between the polarity scores of the article as a whole compared to the polarity scores of the summary.  The summary polarity score of 0.157 is slightly higher than the article polarity score of 0.102. I believe in general, all the reviews would be similar in this case. "
   ]
  },
  {
   "cell_type": "markdown",
   "metadata": {},
   "source": [
    "13. Based on your reading of the original article, which summary do you think is better (if there's a difference).  Why do you think this might be?\n",
    "\n",
    "There wasn't much of a difference between the scores.  Maybe if a more controversial book was chosen, there would be a greater discrepancy in the reviews of the book.  Going with a classic, I am guessing most of the reviews were favorable or positive."
   ]
  },
  {
   "cell_type": "markdown",
   "metadata": {},
   "source": [
    "Convert to HTML"
   ]
  },
  {
   "cell_type": "code",
   "execution_count": 33,
   "metadata": {},
   "outputs": [
    {
     "name": "stderr",
     "output_type": "stream",
     "text": [
      "[NbConvertApp] Converting notebook article-summarizer.ipynb to html\n",
      "[NbConvertApp] Writing 284128 bytes to article-summarizer.html\n"
     ]
    }
   ],
   "source": [
    "!jupyter nbconvert --to html article-summarizer.ipynb"
   ]
  }
 ],
 "metadata": {
  "kernelspec": {
   "display_name": "Python 3",
   "language": "python",
   "name": "python3"
  },
  "language_info": {
   "codemirror_mode": {
    "name": "ipython",
    "version": 3
   },
   "file_extension": ".py",
   "mimetype": "text/x-python",
   "name": "python",
   "nbconvert_exporter": "python",
   "pygments_lexer": "ipython3",
   "version": "3.12.2"
  }
 },
 "nbformat": 4,
 "nbformat_minor": 4
}
